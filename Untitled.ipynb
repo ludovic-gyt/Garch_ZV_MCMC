{
 "cells": [
  {
   "cell_type": "markdown",
   "id": "0d1bbc82-b2be-46af-8397-c6896f03b8d4",
   "metadata": {},
   "source": [
    "We calculate the gradient in the same way. To construct the chain derivatives, we used the chain derivative method. That is, we derived $h(x)$ with respect to $x[i]$, with i ranging from 0 to 2, then $g(h)$ with respect to $h$. Then we just multiply the two derivatives and sum over the whole garch process."
   ]
  },
  {
   "cell_type": "markdown",
   "id": "74afcd34-f94c-44cd-b514-b0be175840eb",
   "metadata": {},
   "source": [
    "Derivative wrt x[0]:"
   ]
  },
  {
   "cell_type": "code",
   "execution_count": null,
   "id": "bce7a3df-2958-402f-a150-e31c01419639",
   "metadata": {},
   "outputs": [],
   "source": [
    "def z1_i(r, h):\n",
    "    return -0.5/h+(0.5 * r**2)/(h**2) \n",
    "\n",
    "def z1(x , data, h_initial):\n",
    "    Z = z1_i(data[0],h_initial)\n",
    "    h = h_initial \n",
    "\n",
    "    for i in range(1, len(data)):\n",
    "        h = x[0] + x[1] * data[i-1]**2 + x[2] * h\n",
    "        Z += z1_i(data[i],h)\n",
    "\n",
    "    return Z"
   ]
  },
  {
   "cell_type": "code",
   "execution_count": null,
   "id": "327aaeb6-8cd6-4a50-aa65-7f213d035ccf",
   "metadata": {},
   "outputs": [],
   "source": [
    "gradient1 = list(map(lambda x: z1(x, data=r_garch, h_initial=h_initial), X_stack))"
   ]
  },
  {
   "cell_type": "markdown",
   "id": "5b8bfe7d-c9c1-402e-a46a-4b67d7eaed75",
   "metadata": {},
   "source": [
    "Derivative wrt x[1]:"
   ]
  },
  {
   "cell_type": "code",
   "execution_count": null,
   "id": "e3c63826-4136-47e3-acfd-398a3f8e56bd",
   "metadata": {},
   "outputs": [],
   "source": [
    "def z2_i(r,h):\n",
    "    return -0.5*r**2/h+0.5*r**4/(h**2)\n",
    "def z2(x , data, h_initial):\n",
    "    Z = z2_i(data[0],h_initial)\n",
    "    h = h_initial\n",
    "    \n",
    "    for i in range(1, len(data)):\n",
    "        h = x[0] + x[1] * data[i-1]**2 + x[2] * h\n",
    "        Z += z2_i(data[i],h)\n",
    "\n",
    "    return Z"
   ]
  },
  {
   "cell_type": "code",
   "execution_count": null,
   "id": "ff5a8f08-8e34-4a8e-8a0e-39df7cba76e8",
   "metadata": {},
   "outputs": [],
   "source": [
    "gradient2 = list(map(lambda x: z2(x, data=r_garch, h_initial=h_initial), X_stack))"
   ]
  },
  {
   "cell_type": "markdown",
   "id": "cb845c70-a05f-4e5f-8a32-b02477bca5ca",
   "metadata": {},
   "source": [
    "Derivative wrt x[2]:"
   ]
  },
  {
   "cell_type": "code",
   "execution_count": null,
   "id": "d52321cc-1aec-45ea-b016-a8a93ddcfea7",
   "metadata": {},
   "outputs": [],
   "source": [
    "def z3_i(r,h):\n",
    "    return -0.5+0.5*r**2/h\n",
    "def z3(x , data, h_initial):\n",
    "    Z = z3_i(data[0],h_initial)\n",
    "    h = h_initial\n",
    "\n",
    "    for i in range(1, len(data)):\n",
    "        h = x[0] + x[1] * data[i-1]**2 + x[2] * h\n",
    "        Z += z3_i(data[i],h)\n",
    "\n",
    "    return Z"
   ]
  },
  {
   "cell_type": "code",
   "execution_count": 21,
   "id": "3cd5ef28-4718-43d9-aacb-7dd01e085ef6",
   "metadata": {},
   "outputs": [],
   "source": [
    "gradient3 = list(map(lambda x: z3(x, data=r_garch, h_initial=h_initial), X_stack))"
   ]
  },
  {
   "cell_type": "code",
   "execution_count": 26,
   "id": "fc826ba1-5f13-43c4-ad29-4378eaf7d4d2",
   "metadata": {},
   "outputs": [],
   "source": [
    "def z11_i(r,h):\n",
    "    return 0.5/h**2-r**2/h**3\n",
    "def z11(x , data, h_initial):\n",
    "    h = h_initial\n",
    "    Z = z11_i(data[0],h)\n",
    "    \n",
    "    for i in range(1, len(data)):\n",
    "        h = x[0] + x[1] * data[i-1]**2 + x[2] * h\n",
    "        Z += z11_i(data[i],h)\n",
    "\n",
    "    return Z"
   ]
  },
  {
   "cell_type": "code",
   "execution_count": 27,
   "id": "409047f5-d0fb-4415-aaf2-b62c584c5ae1",
   "metadata": {},
   "outputs": [],
   "source": [
    "def z12_i(r,h):\n",
    "    return (0.5 * r**2)/h**2-r**4/h**3\n",
    "def z12(x , data, h_initial):\n",
    "    h = h_initial\n",
    "    Z = z12_i(data[0],h)\n",
    "    \n",
    "    for i in range(1, len(data)):\n",
    "        h = x[0] + x[1] * data[i-1]**2 + x[2] * h\n",
    "        Z += z12_i(data[i],h)\n",
    "\n",
    "    return Z"
   ]
  },
  {
   "cell_type": "code",
   "execution_count": 28,
   "id": "d07f3e39-533b-4082-99d9-141e37636cab",
   "metadata": {},
   "outputs": [],
   "source": [
    "def z13_i(r,h):\n",
    "    return (0.5)/h-r**2/h**2\n",
    "def z13(x , data, h_initial):\n",
    "    h = h_initial\n",
    "    Z = z12_i(data[0],h)\n",
    "    \n",
    "    for i in range(1, len(data)):\n",
    "        h = x[0] + x[1] * data[i-1]**2 + x[2] * h\n",
    "        Z += z12_i(data[i],h)\n",
    "\n",
    "    return Z"
   ]
  },
  {
   "cell_type": "code",
   "execution_count": 29,
   "id": "a99c7c36-6e4b-424d-aecc-1a449f78a8fd",
   "metadata": {},
   "outputs": [],
   "source": [
    "def z21_i(r,h):\n",
    "    return (0.5 * r**2)/h**2-r**4/h**3\n",
    "def z21(x , data, h_initial):\n",
    "    h = h_initial\n",
    "    Z = z21_i(data[0],h)\n",
    "    \n",
    "    for i in range(1, len(data)):\n",
    "        h = x[0] + x[1] * data[i-1]**2 + x[2] * h\n",
    "        Z += z21_i(data[i],h)\n",
    "\n",
    "    return Z"
   ]
  },
  {
   "cell_type": "code",
   "execution_count": 30,
   "id": "4d5c7f56-3c0c-4ba1-815a-8bafaaa39884",
   "metadata": {},
   "outputs": [],
   "source": [
    "def z22_i(r,h):\n",
    "    return (0.5 * r**4)/h**2-r**6/h**3\n",
    "def z22(x , data, h_initial):\n",
    "    h = h_initial\n",
    "    Z = z22_i(data[0],h)\n",
    "    \n",
    "    for i in range(1, len(data)):\n",
    "        h = x[0] + x[1] * data[i-1]**2 + x[2] * h\n",
    "        Z += z22_i(data[i],h)\n",
    "\n",
    "    return Z"
   ]
  },
  {
   "cell_type": "code",
   "execution_count": 31,
   "id": "5aa35a94-d098-48b7-82fe-23de9ce8ffc5",
   "metadata": {},
   "outputs": [],
   "source": [
    "def z23_i(r,h):\n",
    "    return (0.5 * r**2)/h-r**4/h**2\n",
    "def z23(x , data, h_initial):\n",
    "    h = h_initial\n",
    "    Z = z23_i(data[0],h)\n",
    "    \n",
    "    for i in range(1, len(data)):\n",
    "        h = x[0] + x[1] * data[i-1]**2 + x[2] * h\n",
    "        Z += z23_i(data[i],h)\n",
    "\n",
    "    return Z"
   ]
  },
  {
   "cell_type": "code",
   "execution_count": 32,
   "id": "19ad74ae-3c60-47f6-a2b2-bd92bb14e564",
   "metadata": {},
   "outputs": [],
   "source": [
    "def z31_i(r,h):\n",
    "    return (-0.5 * r**2)/h**2\n",
    "def z31(x , data, h_initial):\n",
    "    h = h_initial\n",
    "    Z = z31_i(data[0],h)\n",
    "    \n",
    "    for i in range(1, len(data)):\n",
    "        h = x[0] + x[1] * data[i-1]**2 + x[2] * h\n",
    "        Z += z31_i(data[i],h)\n",
    "\n",
    "    return Z"
   ]
  },
  {
   "cell_type": "code",
   "execution_count": 33,
   "id": "9c79ff05-b26c-4cd5-a49f-7dfb5d7ca891",
   "metadata": {},
   "outputs": [],
   "source": [
    "def z32_i(r,h):\n",
    "    return (-0.5 * r**4)/h**2\n",
    "def z32(x , data, h_initial):\n",
    "    h = h_initial\n",
    "    Z = z32_i(data[0],h)\n",
    "    \n",
    "    for i in range(1, len(data)):\n",
    "        h = x[0] + x[1] * data[i-1]**2 + x[2] * h\n",
    "        Z += z32_i(data[i],h)\n",
    "\n",
    "    return Z"
   ]
  },
  {
   "cell_type": "code",
   "execution_count": 36,
   "id": "e0b78a76-ac76-4159-954f-bb5ceb8fe4bc",
   "metadata": {},
   "outputs": [],
   "source": [
    "def z33_i(r,h):\n",
    "    return (-0.5 * r**2)/h\n",
    "def z33(x , data, h_initial):\n",
    "    h = h_initial\n",
    "    Z = z33_i(data[0],h)\n",
    "    \n",
    "    for i in range(1, len(data)):\n",
    "        h = x[0] + x[1] * data[i-1]**2 + x[2] * h\n",
    "        Z += z33_i(data[i],h)\n",
    "\n",
    "    return Z"
   ]
  },
  {
   "cell_type": "code",
   "execution_count": 37,
   "id": "8633c307-87a3-4481-a410-f2370d080499",
   "metadata": {},
   "outputs": [],
   "source": [
    "hessienne11 = list(map(lambda x: z11(x, data=r_garch, h_initial=h_initial), X_stack))\n",
    "hessienne12 = list(map(lambda x: z12(x, data=r_garch, h_initial=h_initial), X_stack))\n",
    "hessienne13 = list(map(lambda x: z13(x, data=r_garch, h_initial=h_initial), X_stack))\n",
    "hessienne21 = list(map(lambda x: z21(x, data=r_garch, h_initial=h_initial), X_stack))\n",
    "hessienne22 = list(map(lambda x: z22(x, data=r_garch, h_initial=h_initial), X_stack))\n",
    "hessienne23 = list(map(lambda x: z23(x, data=r_garch, h_initial=h_initial), X_stack))\n",
    "hessienne31 = list(map(lambda x: z31(x, data=r_garch, h_initial=h_initial), X_stack))\n",
    "hessienne32 = list(map(lambda x: z32(x, data=r_garch, h_initial=h_initial), X_stack))\n",
    "hessienne33 = list(map(lambda x: z33(x, data=r_garch, h_initial=h_initial), X_stack))"
   ]
  },
  {
   "cell_type": "raw",
   "id": "28561dce-3ee1-4b75-835e-7a5fff9fa1d3",
   "metadata": {},
   "source": [
    "def f_i(r, h):\n",
    "    g = -0.5 * np.log(h) - 0.5 * (r**2 / h)\n",
    "    z1 = -0.5/h+(0.5 * r**2)/(h**2) \n",
    "    z2 = -0.5*r**2/h+0.5*r**4/(h**2)\n",
    "    z3 = 0.5+0.5*r**2/h\n",
    "    return g - model.params[0] * z1 - model.params[1] * z2 - model.params[2] * z3 \n",
    "\n",
    "def f(x , data, h_initial):\n",
    "    h = h_initial \n",
    "    LL = f_i(data[0],h) \n",
    "\n",
    "    for i in range(1, len(data)):\n",
    "        h = x[0] + x[1] * data[i-1]**2 + x[2] * h\n",
    "        LL += f_i(data[i],h)\n",
    "\n",
    "    return LL"
   ]
  }
 ],
 "metadata": {
  "kernelspec": {
   "display_name": "Python 3 (ipykernel)",
   "language": "python",
   "name": "python3"
  },
  "language_info": {
   "codemirror_mode": {
    "name": "ipython",
    "version": 3
   },
   "file_extension": ".py",
   "mimetype": "text/x-python",
   "name": "python",
   "nbconvert_exporter": "python",
   "pygments_lexer": "ipython3",
   "version": "3.9.12"
  }
 },
 "nbformat": 4,
 "nbformat_minor": 5
}
