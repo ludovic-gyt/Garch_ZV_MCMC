{
 "cells": [
  {
   "cell_type": "code",
   "execution_count": 1,
   "id": "eb5ee75e-7120-4680-afa9-544956d8205d",
   "metadata": {},
   "outputs": [],
   "source": [
    "import numpy as np\n",
    "from scipy.stats import norm\n",
    "import matplotlib.pyplot as plt"
   ]
  },
  {
   "cell_type": "markdown",
   "id": "684a68e4-a481-43c5-860c-9a243f1ff919",
   "metadata": {},
   "source": [
    "The following code is used to simulate a GARCH(1,1) model with N=5000 data points "
   ]
  },
  {
   "cell_type": "code",
   "execution_count": 8,
   "id": "82645cd6-7fc0-4a81-9462-5a3f548f8c0e",
   "metadata": {},
   "outputs": [],
   "source": [
    "N = 5000  #Run size\n",
    "n = 100  #Burn-in size\n",
    "a = [0.8, 0.2, 0.5] # paramètre omega du modèle Garch"
   ]
  },
  {
   "cell_type": "markdown",
   "id": "7ff2f2fd-6a5c-440e-9cd2-290d034dc910",
   "metadata": {},
   "source": [
    "Generate the GARCH(1,1) process iteratively by its definition"
   ]
  },
  {
   "cell_type": "code",
   "execution_count": 6,
   "id": "26993da7-c850-42ae-84ee-429bdbb88b0f",
   "metadata": {},
   "outputs": [],
   "source": [
    "def garch_11(params, N):   #N est la taille de la série générée\n",
    "    y = np.zeros(N)  # Données actuelles\n",
    "    s = np.zeros(N)  # Volatilité : s=sigma^2\n",
    "\n",
    "    # Définir la distribution initiale pour y1 et s1\n",
    "    y[0] = 0.1\n",
    "    s[0] = 0.01\n",
    "\n",
    "    e = np.random.normal(0, 1, N)  # Erreurs supposées ~ Normale(0,1)\n",
    "\n",
    "    for i in range(1, N):\n",
    "        s[i] = params[0] + params[1] * y[i-1]**2 + params[2] * s[i-1]\n",
    "        y[i] = np.sqrt(s[i]) * e[i]\n",
    "\n",
    "    return y"
   ]
  },
  {
   "cell_type": "markdown",
   "id": "563cab7f-06c5-4412-a54f-5b0d16ef11f3",
   "metadata": {},
   "source": [
    "Simulated true data of the previously defined GARCH(1,1) process"
   ]
  },
  {
   "cell_type": "code",
   "execution_count": 9,
   "id": "f78ca91b-da2d-44e1-a3b8-001b58095c6b",
   "metadata": {},
   "outputs": [],
   "source": [
    "ygarch = garch_11(a, N)[(n + 1):N]"
   ]
  },
  {
   "cell_type": "code",
   "execution_count": 10,
   "id": "897f668d-6c56-4526-959e-5694f8007ce2",
   "metadata": {},
   "outputs": [
    {
     "data": {
      "image/png": "[encoded data removed]",
      "text/plain": [
       "<Figure size 432x288 with 1 Axes>"
      ]
     },
     "metadata": {
      "needs_background": "light"
     },
     "output_type": "display_data"
    }
   ],
   "source": [
    "#rendement simulés\n",
    "plt.plot(ygarch)\n",
    "plt.title('Données simulées')\n",
    "plt.xlabel('Temps')\n",
    "plt.ylabel('Retours')\n",
    "plt.show()"
   ]
  },
  {
   "cell_type": "markdown",
   "id": "5869a1c4-7709-4803-9b83-650d54224320",
   "metadata": {},
   "source": [
    "## MCMC"
   ]
  },
  {
   "cell_type": "markdown",
   "id": "651ea729-8338-4b35-ac83-b1602dd5f3ff",
   "metadata": {},
   "source": [
    "Iteratively calculate the logged posterior distribution"
   ]
  },
  {
   "cell_type": "code",
   "execution_count": 12,
   "id": "11b6c9c1-fcd7-4186-aa83-094c9cd29b97",
   "metadata": {},
   "outputs": [],
   "source": [
    "def g0(s, y):\n",
    "    return -0.5 * np.log(s) - 0.5 * (y**2 / s)\n",
    "\n",
    "def g(x):\n",
    "    # Define the starting distribution for s1\n",
    "    s = 0.01\n",
    "    gg = g0(s, ygarch[0])\n",
    "\n",
    "    for i in range(1, len(ygarch)):\n",
    "        s = x[0] + x[1] * ygarch[i-1]**2 + x[2] * s\n",
    "        gg += g0(s, ygarch[i])\n",
    "\n",
    "    return gg"
   ]
  },
  {
   "cell_type": "code",
   "execution_count": 17,
   "id": "43cf6cb5-239b-4081-afd5-755bca5b93f5",
   "metadata": {},
   "outputs": [],
   "source": [
    "M = 40000  # run length\n",
    "B = 20000  # amount of burn-in\n",
    "#X = np.random.rand(3)# overdispersed starting distribution (dim=3)\n",
    "X= [0.89640571, 0.62853914, 0.99766534]\n",
    "sigma = 0.05  # proposal scaling\n",
    "x1list = np.zeros(M)  # for keeping track of values\n",
    "x2list = np.zeros(M)\n",
    "x3list = np.zeros(M)\n",
    "numaccept = 0 #compte le nombre d'acceptation dans l'algo"
   ]
  },
  {
   "cell_type": "code",
   "execution_count": 18,
   "id": "424a2ddb-053c-4375-b2c3-50ecfc80d003",
   "metadata": {},
   "outputs": [
    {
     "name": "stdout",
     "output_type": "stream",
     "text": [
      " ... 0\n",
      " ... 1000\n",
      " ... 2000\n"
     ]
    },
    {
     "ename": "KeyboardInterrupt",
     "evalue": "",
     "output_type": "error",
     "traceback": [
      "\u001b[0;31m---------------------------------------------------------------------------\u001b[0m",
      "\u001b[0;31mKeyboardInterrupt\u001b[0m                         Traceback (most recent call last)",
      "Input \u001b[0;32mIn [18]\u001b[0m, in \u001b[0;36m<cell line: 1>\u001b[0;34m()\u001b[0m\n\u001b[1;32m      2\u001b[0m Y \u001b[38;5;241m=\u001b[39m X \u001b[38;5;241m+\u001b[39m sigma \u001b[38;5;241m*\u001b[39m np\u001b[38;5;241m.\u001b[39mrandom\u001b[38;5;241m.\u001b[39mnormal(size\u001b[38;5;241m=\u001b[39m\u001b[38;5;241m3\u001b[39m)  \u001b[38;5;66;03m# Proposal move (dim=3)\u001b[39;00m\n\u001b[1;32m      3\u001b[0m U \u001b[38;5;241m=\u001b[39m np\u001b[38;5;241m.\u001b[39mlog(np\u001b[38;5;241m.\u001b[39mrandom\u001b[38;5;241m.\u001b[39mrand(\u001b[38;5;241m1\u001b[39m))  \u001b[38;5;66;03m# for accept/reject\u001b[39;00m\n\u001b[0;32m----> 4\u001b[0m alpha \u001b[38;5;241m=\u001b[39m \u001b[43mg\u001b[49m\u001b[43m(\u001b[49m\u001b[43mY\u001b[49m\u001b[43m)\u001b[49m \u001b[38;5;241m-\u001b[39m g(X)  \u001b[38;5;66;03m# for accept/reject\u001b[39;00m\n\u001b[1;32m      5\u001b[0m \u001b[38;5;28;01mif\u001b[39;00m np\u001b[38;5;241m.\u001b[39mall(Y \u001b[38;5;241m>\u001b[39m \u001b[38;5;241m0\u001b[39m) \u001b[38;5;129;01mand\u001b[39;00m U \u001b[38;5;241m<\u001b[39m alpha:  \u001b[38;5;66;03m# Reject all samples where any parameter is negative\u001b[39;00m\n\u001b[1;32m      6\u001b[0m     X \u001b[38;5;241m=\u001b[39m Y  \u001b[38;5;66;03m# accept proposal\u001b[39;00m\n",
      "Input \u001b[0;32mIn [12]\u001b[0m, in \u001b[0;36mg\u001b[0;34m(x)\u001b[0m\n\u001b[1;32m      9\u001b[0m \u001b[38;5;28;01mfor\u001b[39;00m i \u001b[38;5;129;01min\u001b[39;00m \u001b[38;5;28mrange\u001b[39m(\u001b[38;5;241m1\u001b[39m, \u001b[38;5;28mlen\u001b[39m(ygarch)):\n\u001b[1;32m     10\u001b[0m     s \u001b[38;5;241m=\u001b[39m x[\u001b[38;5;241m0\u001b[39m] \u001b[38;5;241m+\u001b[39m x[\u001b[38;5;241m1\u001b[39m] \u001b[38;5;241m*\u001b[39m ygarch[i\u001b[38;5;241m-\u001b[39m\u001b[38;5;241m1\u001b[39m]\u001b[38;5;241m*\u001b[39m\u001b[38;5;241m*\u001b[39m\u001b[38;5;241m2\u001b[39m \u001b[38;5;241m+\u001b[39m x[\u001b[38;5;241m2\u001b[39m] \u001b[38;5;241m*\u001b[39m s\n\u001b[0;32m---> 11\u001b[0m     gg \u001b[38;5;241m+\u001b[39m\u001b[38;5;241m=\u001b[39m \u001b[43mg0\u001b[49m\u001b[43m(\u001b[49m\u001b[43ms\u001b[49m\u001b[43m,\u001b[49m\u001b[43m \u001b[49m\u001b[43mygarch\u001b[49m\u001b[43m[\u001b[49m\u001b[43mi\u001b[49m\u001b[43m]\u001b[49m\u001b[43m)\u001b[49m\n\u001b[1;32m     13\u001b[0m \u001b[38;5;28;01mreturn\u001b[39;00m gg\n",
      "Input \u001b[0;32mIn [12]\u001b[0m, in \u001b[0;36mg0\u001b[0;34m(s, y)\u001b[0m\n\u001b[1;32m      1\u001b[0m \u001b[38;5;28;01mdef\u001b[39;00m \u001b[38;5;21mg0\u001b[39m(s, y):\n\u001b[0;32m----> 2\u001b[0m     \u001b[38;5;28;01mreturn\u001b[39;00m \u001b[38;5;241m-\u001b[39m\u001b[38;5;241m0.5\u001b[39m \u001b[38;5;241m*\u001b[39m \u001b[43mnp\u001b[49m\u001b[38;5;241;43m.\u001b[39;49m\u001b[43mlog\u001b[49m\u001b[43m(\u001b[49m\u001b[43ms\u001b[49m\u001b[43m)\u001b[49m \u001b[38;5;241m-\u001b[39m \u001b[38;5;241m0.5\u001b[39m \u001b[38;5;241m*\u001b[39m (y\u001b[38;5;241m*\u001b[39m\u001b[38;5;241m*\u001b[39m\u001b[38;5;241m2\u001b[39m \u001b[38;5;241m/\u001b[39m s)\n",
      "\u001b[0;31mKeyboardInterrupt\u001b[0m: "
     ]
    }
   ],
   "source": [
    "for i in range(M):\n",
    "    Y = X + sigma * np.random.normal(size=3)  # Proposal move (dim=3)\n",
    "    U = np.log(np.random.rand(1))  # for accept/reject\n",
    "    alpha = g(Y) - g(X)  # for accept/reject\n",
    "    if np.all(Y > 0) and U < alpha:  # Reject all samples where any parameter is negative\n",
    "        X = Y  # accept proposal\n",
    "        numaccept += 1\n",
    "\n",
    "    x1list[i] = X[0]\n",
    "    x2list[i] = X[1]\n",
    "    x3list[i] = X[2]\n",
    "    # Output progress report.\n",
    "    if (i % 1000) == 0:\n",
    "        print(\" ...\", i)"
   ]
  },
  {
   "cell_type": "raw",
   "id": "702013de-939e-4d8a-834a-d284fa3afbd9",
   "metadata": {},
   "source": [
    "cat(\"ran Metropolis algorithm for\", M, \"iterations, with burn-in\", B, \"\\n\");\n",
    "cat(\"acceptance rate =\", numaccept/M, \"\\n\");\n",
    "u = mean(x1list[(B+1):M])\n",
    "cat(\"mean of x1 is about\", u, \"\\n\")\n",
    "v = mean(x2list[(B+1):M])\n",
    "cat(\"mean of x2 is about\", v, \"\\n\")\n",
    "w = mean(x3list[(B+1):M])\n",
    "cat(\"mean of x3 is about\", w, \"\\n\")\n",
    "\n",
    "varfact <- function(xxx) { 2 * sum(acf(xxx, plot=FALSE)$acf) - 1 }\n",
    "\n",
    "se11 =  sd(x1list[(B+1):M]) / sqrt(M-B)\n",
    "thevarfact1 = varfact(x1list[(B+1):M])\n",
    "se1 = se11 * sqrt( thevarfact1 )\n",
    "cat(\"true standard error of omega is about\", se1, \"\\n\")\n",
    "cat(\"approximate 95% confidence interval of omega is (\", u - 1.96 * se1, \",\",\n",
    "\t\t\t\t\t\tu + 1.96 * se1, \")\\n\\n\")\n",
    "\n",
    "se12 =  sd(x2list[(B+1):M]) / sqrt(M-B)\n",
    "thevarfact2 = varfact(x2list[(B+1):M])\n",
    "se2 = se12 * sqrt( thevarfact2 )\n",
    "cat(\"true standard error of alpha is about\", se2, \"\\n\")\n",
    "cat(\"approximate 95% confidence interval of alpha is (\", v - 1.96 * se2, \",\",\n",
    "\t\t\t\t\t\tv + 1.96 * se2, \")\\n\\n\")\n",
    "\n",
    "\n",
    "se13 =  sd(x3list[(B+1):M]) / sqrt(M-B)\n",
    "thevarfact3 = varfact(x3list[(B+1):M])\n",
    "se3 = se13 * sqrt( thevarfact3 )\n",
    "cat(\"true standard error of beta is about\", se3, \"\\n\")\n",
    "cat(\"approximate 95% confidence interval of alpha is (\", w - 1.96 * se3, \",\",\n",
    "\t\t\t\t\t\tw + 1.96 * se3, \")\\n\\n\")\n",
    "\n",
    "par(mfrow=c(1,3))\n",
    "plot(x1list,type='l',main=\"Time series plot of omega\")\n",
    "plot(x2list,type='l',main=\"Time series plot of alpha\")\n",
    "plot(x3list,type='l',main=\"Time series plot of beta\")\n",
    "\n",
    "par(mfrow=c(1,3))\n",
    "acf(x1list,lag.max=250,main=\"Autocorrelation plot of omega\")\n",
    "acf(x2list,lag.max=250,main=\"Autocorrelation plot of alpha\")\n",
    "acf(x3list,lag.max=250,main=\"Autocorrelation plot of beta\")"
   ]
  }
 ],
 "metadata": {
  "kernelspec": {
   "display_name": "Python 3 (ipykernel)",
   "language": "python",
   "name": "python3"
  },
  "language_info": {
   "codemirror_mode": {
    "name": "ipython",
    "version": 3
   },
   "file_extension": ".py",
   "mimetype": "text/x-python",
   "name": "python",
   "nbconvert_exporter": "python",
   "pygments_lexer": "ipython3",
   "version": "3.9.12"
  }
 },
 "nbformat": 4,
 "nbformat_minor": 5
}
