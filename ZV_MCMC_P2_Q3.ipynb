{
 "cells": [
  {
   "cell_type": "markdown",
   "id": "032cac41-515f-4e9e-a8a3-19a4449a48ca",
   "metadata": {
    "tags": []
   },
   "source": [
    "## Q3 : Add control variate (second order polynomial) to implement Zero variance Markov chain Monte Carlo Method (ZV-MCMC) with lasso selection"
   ]
  },
  {
   "cell_type": "markdown",
   "id": "03f4e611-52fb-4e64-8185-8c0596ccf1d6",
   "metadata": {},
   "source": [
    "### Libraries set up"
   ]
  },
  {
   "cell_type": "code",
   "execution_count": 2,
   "id": "285f52ac-7978-46d1-9b13-e73109ae0f88",
   "metadata": {},
   "outputs": [],
   "source": [
    "import numpy as np\n",
    "import pandas as pd\n",
    "from scipy.stats import norm\n",
    "import matplotlib.pyplot as plt\n",
    "from statsmodels.tsa.stattools import acf\n",
    "from statsmodels.graphics.tsaplots import plot_acf\n",
    "import seaborn as sns\n",
    "import statsmodels.formula.api as smf\n",
    "import statsmodels.api as sm\n",
    "import os\n",
    "from scipy.optimize import minimize"
   ]
  },
  {
   "cell_type": "code",
   "execution_count": 3,
   "id": "4ea8ee4b-a442-4306-8528-b5b01be466e8",
   "metadata": {},
   "outputs": [],
   "source": [
    "os.chdir(\"/Users/ludovic/Desktop/ENSAE/S2/MC/Garch_ZV_MCMC\") #set up the location of the project "
   ]
  },
  {
   "cell_type": "markdown",
   "id": "a42bc6bf-ba5c-492f-8fdb-c3c75076852c",
   "metadata": {
    "tags": []
   },
   "source": [
    "### Simulation of data following a GARCH(1,1) process"
   ]
  },
  {
   "cell_type": "markdown",
   "id": "b5d509a8-124b-480f-bf28-e1d2059b0889",
   "metadata": {},
   "source": [
    "We take the ssimulated garch process of question 1 (with parameters 0.3, 0.2, 0.5): "
   ]
  },
  {
   "cell_type": "code",
   "execution_count": 10,
   "id": "04c3223d-c028-47eb-9870-f82ad9bfcb5c",
   "metadata": {},
   "outputs": [],
   "source": [
    "r_garch = pd.read_csv(\"r_garch.csv\")\n",
    "r_garch = np.array(r_garch[\"0\"])"
   ]
  },
  {
   "cell_type": "markdown",
   "id": "b7a8a908-3c9c-4804-955a-4481f81d52c9",
   "metadata": {
    "tags": []
   },
   "source": [
    "## Control variate estimation"
   ]
  },
  {
   "cell_type": "code",
   "execution_count": 4,
   "id": "89a2454e-8d64-444b-8f4d-d34671bb9c75",
   "metadata": {},
   "outputs": [],
   "source": [
    "zvmcmc_results_1step = pd.read_csv('zvmcmc_results_P1.csv')"
   ]
  },
  {
   "cell_type": "markdown",
   "id": "fde2d491-13a8-49da-8aa4-83c724ed595f",
   "metadata": {},
   "source": [
    "We transform our 3 lists to be usable in our folowing function :"
   ]
  },
  {
   "cell_type": "code",
   "execution_count": 6,
   "id": "6f2fe29e-6f11-4ddf-aa22-14cbdf7a4a7d",
   "metadata": {},
   "outputs": [],
   "source": [
    "B=600\n",
    "X_stack = np.vstack([zvmcmc_results_1step['omega'][B:], zvmcmc_results_1step['alpha'][B:], zvmcmc_results_1step['beta'][B:]])"
   ]
  },
  {
   "cell_type": "code",
   "execution_count": 7,
   "id": "cdc12444-2a86-4530-89e1-1a53e779f6dc",
   "metadata": {},
   "outputs": [],
   "source": [
    "X_stack = X_stack.T"
   ]
  },
  {
   "cell_type": "markdown",
   "id": "44b23494-bd09-438d-a979-dbd533ebccaa",
   "metadata": {},
   "source": [
    "The goal is to regress $g$ on $z$ with $z$ define as the gradient of g with respect to our three parameter. This gradient is thus of dimension 3. We are looking for a vector of coefficient $a$ such that f, our re-normalized function, is equal to:\n",
    "\n",
    "$$f(x) = g(x) + a^t*z$$\n",
    "\n",
    "with $a$ equal to the vector of coefficient of an OLS regression of g on z. $f$ is the predicted residuals of the regression of $g$ on $z$. \n",
    "\n",
    "This renormalization allows the algorythm to create less variance because the variance of the new function decreases relatively to the first function."
   ]
  },
  {
   "cell_type": "markdown",
   "id": "5a7d9932-7363-4527-b07c-9011a1933305",
   "metadata": {},
   "source": [
    "We calculate the density on each combination of simulated parameters of step 1 (we redefine the density function only as a reminder because it is already defined above), it will be our dependant variable in the regresssion:"
   ]
  },
  {
   "cell_type": "code",
   "execution_count": 11,
   "id": "d26ffc9e-603a-45d5-b87a-52d958076e55",
   "metadata": {},
   "outputs": [],
   "source": [
    "def g_i(r, h):\n",
    "    return -0.5 * np.log(h) - 0.5 * (r**2 / h) # Normal law because r_{t}|F_t-1 follow N(0,h_t)\n",
    "\n",
    "def g(x , data, h_initial): \n",
    "    LL = g_i(data[0],h_initial) # density is initialized with our first simulated data\n",
    "    h_t = h_initial\n",
    "    \n",
    "    for i in range(1, len(data)):\n",
    "        h = h_t\n",
    "        h_t = x[0] + x[1] * data[i-1]**2 + x[2] * h\n",
    "        LL += g_i(data[i],h_t) #iteration on the Garch process\n",
    "\n",
    "    return LL"
   ]
  },
  {
   "cell_type": "code",
   "execution_count": 14,
   "id": "74174657-d999-4793-9b3c-b3ed9b4420c2",
   "metadata": {},
   "outputs": [],
   "source": [
    "def optimize_h(data):\n",
    "    fun = lambda h: -g_i(data[0], h) # function to minimize\n",
    "    h_init = 1 # initial value for h\n",
    "    result = minimize(fun, h_init, method='BFGS') # grandient descent method\n",
    "\n",
    "    h_optimal = result.x[0] #result\n",
    "    return h_optimal\n",
    "\n",
    "h_initial = optimize_h(r_garch)"
   ]
  },
  {
   "cell_type": "code",
   "execution_count": 15,
   "id": "819c7401-6575-429d-90bb-80b28f1d7249",
   "metadata": {},
   "outputs": [],
   "source": [
    "g = list(map(lambda x: g(x, data=r_garch, h_initial=h_initial), X_stack))"
   ]
  },
  {
   "cell_type": "markdown",
   "id": "8ee3d9c1-f2b7-4a2a-89a9-0e8912bcf862",
   "metadata": {},
   "source": [
    "We calculate the gradient in the same way. To construct the chain derivatives, we used the chain derivative method. That is, we derived $h(x)$ with respect to $x[i]$, with i ranging from 0 to 2, then $g(h)$ with respect to $h$. Then we just multiply the two derivatives and sum over the whole garch process."
   ]
  },
  {
   "cell_type": "markdown",
   "id": "f7561a94-b31e-433e-ab2e-3282a5843340",
   "metadata": {},
   "source": [
    "Derivative wrt x[0]:"
   ]
  },
  {
   "cell_type": "code",
   "execution_count": 22,
   "id": "4dd7e3f6-72ce-4feb-ade3-6c374b7f9669",
   "metadata": {},
   "outputs": [],
   "source": [
    "def z1_i(r, h):\n",
    "    return -0.5/h+(0.5 * r**2)/(h**2) \n",
    "\n",
    "def z1(x , data, h_initial):\n",
    "    Z = z1_i(data[0],h_initial)\n",
    "    h = h_initial \n",
    "\n",
    "    for i in range(1, len(data)):\n",
    "        h = x[0] + x[1] * data[i-1]**2 + x[2] * h\n",
    "        Z += z1_i(data[i],h)\n",
    "\n",
    "    return Z"
   ]
  },
  {
   "cell_type": "code",
   "execution_count": 23,
   "id": "bf93d311-2633-40bc-8af5-fd1062f0c42d",
   "metadata": {},
   "outputs": [],
   "source": [
    "gradient1 = list(map(lambda x: z1(x, data=r_garch, h_initial=h_initial), X_stack))"
   ]
  },
  {
   "cell_type": "markdown",
   "id": "2b7e7c2a-2abb-4484-a735-bfbdf254dba3",
   "metadata": {},
   "source": [
    "Derivative wrt x[1]:"
   ]
  },
  {
   "cell_type": "code",
   "execution_count": 24,
   "id": "73403033-743d-40ed-b0e9-a95a9aa05f70",
   "metadata": {},
   "outputs": [],
   "source": [
    "def z2_i(r,h):\n",
    "    return -0.5*r**2/h+0.5*r**4/(h**2)\n",
    "def z2(x , data, h_initial):\n",
    "    Z = z2_i(data[0],h_initial)\n",
    "    h = h_initial\n",
    "    \n",
    "    for i in range(1, len(data)):\n",
    "        h = x[0] + x[1] * data[i-1]**2 + x[2] * h\n",
    "        Z += z2_i(data[i],h)\n",
    "\n",
    "    return Z"
   ]
  },
  {
   "cell_type": "code",
   "execution_count": 25,
   "id": "6c246ed8-025f-46e2-be0d-04f04be5970c",
   "metadata": {},
   "outputs": [],
   "source": [
    "gradient2 = list(map(lambda x: z2(x, data=r_garch, h_initial=h_initial), X_stack))"
   ]
  },
  {
   "cell_type": "markdown",
   "id": "7afc2c30-7431-497e-b7ec-eee8758692a7",
   "metadata": {},
   "source": [
    "Derivative wrt x[2]:"
   ]
  },
  {
   "cell_type": "code",
   "execution_count": 20,
   "id": "98fc13ee-8c86-46ba-bf88-f7e109a97bf6",
   "metadata": {},
   "outputs": [],
   "source": [
    "def z3_i(r,h):\n",
    "    return -0.5+0.5*r**2/h\n",
    "def z3(x , data, h_initial):\n",
    "    Z = z3_i(data[0],h_initial)\n",
    "    h = h_initial\n",
    "\n",
    "    for i in range(1, len(data)):\n",
    "        h = x[0] + x[1] * data[i-1]**2 + x[2] * h\n",
    "        Z += z3_i(data[i],h)\n",
    "\n",
    "    return Z"
   ]
  },
  {
   "cell_type": "code",
   "execution_count": 21,
   "id": "0b75303d-d9a1-412c-a5c3-fe487ee791a0",
   "metadata": {},
   "outputs": [],
   "source": [
    "gradient3 = list(map(lambda x: z3(x, data=r_garch, h_initial=h_initial), X_stack))"
   ]
  },
  {
   "cell_type": "code",
   "execution_count": 26,
   "id": "30119c2a-f0e9-4e0d-a3ed-bda1e2c6e61e",
   "metadata": {},
   "outputs": [],
   "source": [
    "def z11_i(r,h):\n",
    "    return 0.5/h**2-r**2/h**3\n",
    "def z11(x , data, h_initial):\n",
    "    h = h_initial\n",
    "    Z = z11_i(data[0],h)\n",
    "    \n",
    "    for i in range(1, len(data)):\n",
    "        h = x[0] + x[1] * data[i-1]**2 + x[2] * h\n",
    "        Z += z11_i(data[i],h)\n",
    "\n",
    "    return Z"
   ]
  },
  {
   "cell_type": "code",
   "execution_count": 27,
   "id": "bd909d35-96fa-4449-94ad-0d1d5768c02b",
   "metadata": {},
   "outputs": [],
   "source": [
    "def z12_i(r,h):\n",
    "    return (0.5 * r**2)/h**2-r**4/h**3\n",
    "def z12(x , data, h_initial):\n",
    "    h = h_initial\n",
    "    Z = z12_i(data[0],h)\n",
    "    \n",
    "    for i in range(1, len(data)):\n",
    "        h = x[0] + x[1] * data[i-1]**2 + x[2] * h\n",
    "        Z += z12_i(data[i],h)\n",
    "\n",
    "    return Z"
   ]
  },
  {
   "cell_type": "code",
   "execution_count": 28,
   "id": "c028565b-2387-43e0-a4a1-06a6a28287e2",
   "metadata": {},
   "outputs": [],
   "source": [
    "def z13_i(r,h):\n",
    "    return (0.5)/h-r**2/h**2\n",
    "def z13(x , data, h_initial):\n",
    "    h = h_initial\n",
    "    Z = z12_i(data[0],h)\n",
    "    \n",
    "    for i in range(1, len(data)):\n",
    "        h = x[0] + x[1] * data[i-1]**2 + x[2] * h\n",
    "        Z += z12_i(data[i],h)\n",
    "\n",
    "    return Z"
   ]
  },
  {
   "cell_type": "code",
   "execution_count": 29,
   "id": "701aea47-cf1a-4f8b-ac03-32bc265b728c",
   "metadata": {},
   "outputs": [],
   "source": [
    "def z21_i(r,h):\n",
    "    return (0.5 * r**2)/h**2-r**4/h**3\n",
    "def z21(x , data, h_initial):\n",
    "    h = h_initial\n",
    "    Z = z21_i(data[0],h)\n",
    "    \n",
    "    for i in range(1, len(data)):\n",
    "        h = x[0] + x[1] * data[i-1]**2 + x[2] * h\n",
    "        Z += z21_i(data[i],h)\n",
    "\n",
    "    return Z"
   ]
  },
  {
   "cell_type": "code",
   "execution_count": 30,
   "id": "baa644b4-21c0-4fef-be8c-2b418f8f6cc3",
   "metadata": {},
   "outputs": [],
   "source": [
    "def z22_i(r,h):\n",
    "    return (0.5 * r**4)/h**2-r**6/h**3\n",
    "def z22(x , data, h_initial):\n",
    "    h = h_initial\n",
    "    Z = z22_i(data[0],h)\n",
    "    \n",
    "    for i in range(1, len(data)):\n",
    "        h = x[0] + x[1] * data[i-1]**2 + x[2] * h\n",
    "        Z += z22_i(data[i],h)\n",
    "\n",
    "    return Z"
   ]
  },
  {
   "cell_type": "code",
   "execution_count": 31,
   "id": "5c02b7ba-89ac-4c76-9ae2-a64593e33e4e",
   "metadata": {},
   "outputs": [],
   "source": [
    "def z23_i(r,h):\n",
    "    return (0.5 * r**2)/h-r**4/h**2\n",
    "def z23(x , data, h_initial):\n",
    "    h = h_initial\n",
    "    Z = z23_i(data[0],h)\n",
    "    \n",
    "    for i in range(1, len(data)):\n",
    "        h = x[0] + x[1] * data[i-1]**2 + x[2] * h\n",
    "        Z += z23_i(data[i],h)\n",
    "\n",
    "    return Z"
   ]
  },
  {
   "cell_type": "code",
   "execution_count": 32,
   "id": "89a3065c-1e3a-4079-b70e-a2d6dfda2951",
   "metadata": {},
   "outputs": [],
   "source": [
    "def z31_i(r,h):\n",
    "    return (-0.5 * r**2)/h**2\n",
    "def z31(x , data, h_initial):\n",
    "    h = h_initial\n",
    "    Z = z31_i(data[0],h)\n",
    "    \n",
    "    for i in range(1, len(data)):\n",
    "        h = x[0] + x[1] * data[i-1]**2 + x[2] * h\n",
    "        Z += z31_i(data[i],h)\n",
    "\n",
    "    return Z"
   ]
  },
  {
   "cell_type": "code",
   "execution_count": 33,
   "id": "1ad79916-dcbe-4241-952d-4c74086e450e",
   "metadata": {},
   "outputs": [],
   "source": [
    "def z32_i(r,h):\n",
    "    return (-0.5 * r**4)/h**2\n",
    "def z32(x , data, h_initial):\n",
    "    h = h_initial\n",
    "    Z = z32_i(data[0],h)\n",
    "    \n",
    "    for i in range(1, len(data)):\n",
    "        h = x[0] + x[1] * data[i-1]**2 + x[2] * h\n",
    "        Z += z32_i(data[i],h)\n",
    "\n",
    "    return Z"
   ]
  },
  {
   "cell_type": "code",
   "execution_count": 36,
   "id": "90881c36-d4a5-41b6-918e-2159656ef547",
   "metadata": {},
   "outputs": [],
   "source": [
    "def z33_i(r,h):\n",
    "    return (-0.5 * r**2)/h\n",
    "def z33(x , data, h_initial):\n",
    "    h = h_initial\n",
    "    Z = z33_i(data[0],h)\n",
    "    \n",
    "    for i in range(1, len(data)):\n",
    "        h = x[0] + x[1] * data[i-1]**2 + x[2] * h\n",
    "        Z += z33_i(data[i],h)\n",
    "\n",
    "    return Z"
   ]
  },
  {
   "cell_type": "code",
   "execution_count": 37,
   "id": "a860666d-5cb0-406f-b1c3-812ef29866dd",
   "metadata": {},
   "outputs": [],
   "source": [
    "hessienne11 = list(map(lambda x: z11(x, data=r_garch, h_initial=h_initial), X_stack))\n",
    "hessienne12 = list(map(lambda x: z12(x, data=r_garch, h_initial=h_initial), X_stack))\n",
    "hessienne13 = list(map(lambda x: z13(x, data=r_garch, h_initial=h_initial), X_stack))\n",
    "hessienne21 = list(map(lambda x: z21(x, data=r_garch, h_initial=h_initial), X_stack))\n",
    "hessienne22 = list(map(lambda x: z22(x, data=r_garch, h_initial=h_initial), X_stack))\n",
    "hessienne23 = list(map(lambda x: z23(x, data=r_garch, h_initial=h_initial), X_stack))\n",
    "hessienne31 = list(map(lambda x: z31(x, data=r_garch, h_initial=h_initial), X_stack))\n",
    "hessienne32 = list(map(lambda x: z32(x, data=r_garch, h_initial=h_initial), X_stack))\n",
    "hessienne33 = list(map(lambda x: z33(x, data=r_garch, h_initial=h_initial), X_stack))"
   ]
  },
  {
   "cell_type": "markdown",
   "id": "364a5b57-8f48-4678-9954-b459735996b9",
   "metadata": {},
   "source": [
    "We use a simple OLS method robust to heteroscedascticity to estimate $a^t$, i.e the coefficients of the polynomial."
   ]
  },
  {
   "cell_type": "code",
   "execution_count": 38,
   "id": "b3c5baa8-43b0-4ac8-a8a5-e1a16d403225",
   "metadata": {},
   "outputs": [
    {
     "name": "stdout",
     "output_type": "stream",
     "text": [
      "                            OLS Regression Results                            \n",
      "==============================================================================\n",
      "Dep. Variable:                      y   R-squared:                       0.998\n",
      "Model:                            OLS   Adj. R-squared:                  0.998\n",
      "Method:                 Least Squares   F-statistic:                       nan\n",
      "Date:                Sat, 22 Apr 2023   Prob (F-statistic):                nan\n",
      "Time:                        19:06:22   Log-Likelihood:                 2652.0\n",
      "No. Observations:                1400   AIC:                            -5288.\n",
      "Df Residuals:                    1392   BIC:                            -5246.\n",
      "Df Model:                           7                                         \n",
      "Covariance Type:                  HC3                                         \n",
      "==============================================================================\n",
      "                 coef    std err          z      P>|z|      [0.025      0.975]\n",
      "------------------------------------------------------------------------------\n",
      "x1            -0.8894      0.040    -22.076      0.000      -0.968      -0.810\n",
      "x2             0.2851      0.013     21.384      0.000       0.259       0.311\n",
      "x3             1.6950      0.005    309.279      0.000       1.684       1.706\n",
      "x4            -0.0442      0.001    -43.653      0.000      -0.046      -0.042\n",
      "x5            -0.0055      0.001    -10.001      0.000      -0.007      -0.004\n",
      "x6            -0.0055      0.001    -10.001      0.000      -0.007      -0.004\n",
      "x7            -0.0055      0.001    -10.001      0.000      -0.007      -0.004\n",
      "x8            -0.0014      0.000     -3.947      0.000      -0.002      -0.001\n",
      "x9             0.0450      0.004     11.465      0.000       0.037       0.053\n",
      "x10           -0.1385      0.005    -28.257      0.000      -0.148      -0.129\n",
      "x11            0.3301      0.009     34.963      0.000       0.312       0.349\n",
      "x12            0.6153      0.023     27.020      0.000       0.571       0.660\n",
      "==============================================================================\n",
      "Omnibus:                      147.086   Durbin-Watson:                   0.473\n",
      "Prob(Omnibus):                  0.000   Jarque-Bera (JB):             1123.669\n",
      "Skew:                          -0.088   Prob(JB):                    9.96e-245\n",
      "Kurtosis:                       7.385   Cond. No.                     7.66e+21\n",
      "==============================================================================\n",
      "\n",
      "Notes:\n",
      "[1] Standard Errors are heteroscedasticity robust (HC3)\n",
      "[2] The smallest eigenvalue is 8.75e-32. This might indicate that there are\n",
      "strong multicollinearity problems or that the design matrix is singular.\n"
     ]
    }
   ],
   "source": [
    "X = np.vstack([gradient1,gradient2,gradient3,hessienne11,hessienne12,hessienne13,hessienne21,\n",
    "              hessienne22,hessienne23,hessienne31,hessienne32,hessienne33]).T\n",
    "#X = sm.add_constant(X) # Ajout d'une constante pour ajuster l'ordonnée à l'origine\n",
    "y = g\n",
    "model = sm.OLS(y, X).fit(cov_type='HC3') # ajustement du modèle de régression linéaire\n",
    "print(model.summary()) "
   ]
  },
  {
   "cell_type": "markdown",
   "id": "7b8b1ad5-274b-4a87-9360-6e38341e1d60",
   "metadata": {},
   "source": [
    "Thanks to the estimated coefficients we can define $f$, our new function with a reduced variance."
   ]
  },
  {
   "cell_type": "code",
   "execution_count": 122,
   "id": "efd8babe-3b17-4cbf-af50-b88a5cf1a312",
   "metadata": {},
   "outputs": [],
   "source": [
    "def f_i(r, h):\n",
    "    g = -0.5 * np.log(h) - 0.5 * (r**2 / h)\n",
    "    z1 = -0.5/h+(0.5 * r**2)/(h**2) \n",
    "    z2 = -0.5*r**2/h+0.5*r**4/(h**2)\n",
    "    z3 = 0.5+0.5*r**2/h\n",
    "    return g - model.params[0] * z1 - model.params[1] * z2 - model.params[2] * z3 \n",
    "\n",
    "def f(x , data, h_initial):\n",
    "    h = h_initial \n",
    "    LL = f_i(data[0],h) \n",
    "\n",
    "    for i in range(1, len(data)):\n",
    "        h = x[0] + x[1] * data[i-1]**2 + x[2] * h\n",
    "        LL += f_i(data[i],h)\n",
    "\n",
    "    return LL"
   ]
  },
  {
   "cell_type": "markdown",
   "id": "dd31800e-9220-45c0-bc43-c19f469e51b1",
   "metadata": {},
   "source": [
    "## ZV-MCMC"
   ]
  },
  {
   "cell_type": "markdown",
   "id": "e671792d-3abe-42d0-b8bf-587899b3ecf2",
   "metadata": {},
   "source": [
    "The last step consists in running the algorithm again but with the new function f to calculate the density and accept or not the proposed combination. "
   ]
  },
  {
   "cell_type": "markdown",
   "id": "c93d5227-7eaa-45fd-a8b9-7cb2bf502f40",
   "metadata": {},
   "source": [
    "Normally it would be necessary to run a larger number of iteratio than in the first step but the execution time is really expensive for our computers."
   ]
  },
  {
   "cell_type": "markdown",
   "id": "dc585995-cc8d-43b4-95ed-ade7408e90bb",
   "metadata": {},
   "source": [
    "We can define the same parameters as in the first step but we have to change the sigma, i.e. the volatility of the normal distribution, which allows us to propose a new combination of parameters, because the variance of the new density function, $f$, has decreased relative to the original $g$ function. We apply a similar procedure to the one applied in Q1 to do it."
   ]
  },
  {
   "cell_type": "code",
   "execution_count": 160,
   "id": "dafc6e9c-1eb4-4d19-9987-82434e7f7fa2",
   "metadata": {},
   "outputs": [],
   "source": [
    "M = 2000 # size of the desired sample\n",
    "#X = np.random.rand(3) # Random starting point for the Markov chain (dim=3)\n",
    "X= [0.31, 0.19, 0.49] # Deterministic starting point for the Markov chain (dim=3)\n",
    "sigma = 0.009  # volatility for the proposal function (fixed by looking for an acceptance rate between 0.3 and 0.6)\n",
    "x1list = []  # for keeping track of omega values\n",
    "x2list = [] # for keeping track of alpha values\n",
    "x3list = [] # for keeping track of beta values\n",
    "numaccept = 0 # counts the number of acceptance in the accept/rejct algorithm\n",
    "i = 0 #initialization of i, the total number of iteration \n",
    "h_initial=optimize_h(r_garch) #initial h for the density computation"
   ]
  },
  {
   "cell_type": "markdown",
   "id": "3d519b9d-3c80-4f56-9343-b9a888c684ff",
   "metadata": {},
   "source": [
    "Algorythm :"
   ]
  },
  {
   "cell_type": "code",
   "execution_count": 161,
   "id": "99ade67a-ea06-44ca-946e-cfc516122c8d",
   "metadata": {},
   "outputs": [
    {
     "name": "stdout",
     "output_type": "stream",
     "text": [
      " ... 1000\n",
      " ... 2000\n",
      " ... 3000\n",
      " ... 4000\n"
     ]
    }
   ],
   "source": [
    "while numaccept < M:\n",
    "    Y = X + np.random.normal(loc=0, scale=sigma, size=3)  # Proposal move with a normal distribution (dim=3 because 3 parameters)\n",
    "    U = np.log(np.random.rand(1)) # Random draw in a uniform distribution for accept/reject\n",
    "    if np.all(Y > 0): # Reject all samples where any parameter is negative (truncated normal distribution)\n",
    "        alpha = f(Y, data = r_garch, h_initial=h_initial) - f(X, data = r_garch, h_initial=h_initial)  # Difference between current and previous density accept/reject\n",
    "        if U < alpha:  # Reject if the ratio of densities is lower than a draw in a uniform distribution\n",
    "            X = Y  # Accept proposal\n",
    "            numaccept += 1 # Counts the number of acceptance in the accept/reject algorithm\n",
    "    \n",
    "            x1list.append(X[0])   # Add the values to the lists of omega\n",
    "            x2list.append(X[1])   # Add the values to the lists of alpha\n",
    "            x3list.append(X[2])   # Add the values to the lists of beta\n",
    "    \n",
    "    # Output progress report (can be long)\n",
    "    i += 1 # Counts the number of total iteration \n",
    "    if (i % 1000) == 0:\n",
    "        print(\" ...\", i)"
   ]
  },
  {
   "cell_type": "markdown",
   "id": "367716a2-022d-4a45-973f-607cef1a240e",
   "metadata": {
    "tags": []
   },
   "source": [
    "#### Exploitation of the results"
   ]
  },
  {
   "cell_type": "code",
   "execution_count": 163,
   "id": "ecf36092-3436-4fe5-9404-82c81a0e9f59",
   "metadata": {},
   "outputs": [
    {
     "data": {
      "image/png": "[encoded data removed]",
      "text/plain": [
       "<Figure size 1080x360 with 3 Axes>"
      ]
     },
     "metadata": {
      "needs_background": "light"
     },
     "output_type": "display_data"
    }
   ],
   "source": [
    "fig, axs = plt.subplots(1, 3, figsize=(15, 5))\n",
    "\n",
    "# Plot time series graphs for x1list, x2list and x3list\n",
    "axs[0].plot(x1list)\n",
    "axs[0].set_title(\"Time series plot of omega\")\n",
    "axs[1].plot(x2list)\n",
    "axs[1].set_title(\"Time series plot of alpha\")\n",
    "axs[2].plot(x3list)\n",
    "axs[2].set_title(\"Time series plot of beta\")\n",
    "\n",
    "# Title and grid settings for time series charts\n",
    "for ax in axs:\n",
    "    ax.set_xlabel(\"Time\")\n",
    "    ax.set_ylabel(\"Value\")\n",
    "    ax.grid(True)\n",
    "\n",
    "# Display time series graphs side by side\n",
    "plt.tight_layout()\n",
    "plt.show()"
   ]
  },
  {
   "cell_type": "code",
   "execution_count": 171,
   "id": "294d56c0-3277-4e4f-854d-7e7a6a9d49bb",
   "metadata": {},
   "outputs": [],
   "source": [
    "B = 600  # amount of burn-in"
   ]
  },
  {
   "cell_type": "markdown",
   "id": "4cacd00c-1ef0-44f6-afa4-c134fb2c13a2",
   "metadata": {},
   "source": [
    "We plot the density of the sample for each parameters :"
   ]
  },
  {
   "cell_type": "code",
   "execution_count": 165,
   "id": "b28c75a6-9cf7-4b38-849e-4e95a7eea586",
   "metadata": {
    "tags": []
   },
   "outputs": [
    {
     "data": {
      "image/png": "[encoded data removed]",
      "text/plain": [
       "<Figure size 864x288 with 3 Axes>"
      ]
     },
     "metadata": {
      "needs_background": "light"
     },
     "output_type": "display_data"
    }
   ],
   "source": [
    "fig, axes = plt.subplots(1, 3, figsize=(12, 4))\n",
    "\n",
    "# plot omega\n",
    "sns.kdeplot(x1list[(B):(len(x1list))], fill=True, color='b', ax=axes[0])\n",
    "axes[0].set_xlabel('omega')\n",
    "axes[0].set_ylabel('Density ')\n",
    "axes[0].set_title('Posterior omega density')\n",
    "\n",
    "# plot alpha\n",
    "sns.kdeplot(x2list[(B):(len(x2list))], fill=True, color='r', ax=axes[1])\n",
    "axes[1].set_xlabel('alpha')\n",
    "axes[1].set_ylabel('Density ')\n",
    "axes[1].set_title('Posterior alpha density')\n",
    "\n",
    "# plot beta\n",
    "sns.kdeplot(x3list[(B):(len(x3list))], fill=True, color='g', ax=axes[2])\n",
    "axes[2].set_xlabel('beta')\n",
    "axes[2].set_ylabel('Density ')\n",
    "axes[2].set_title('Posterior beta density')\n",
    "\n",
    "# space between subgraphs\n",
    "plt.tight_layout()\n",
    "\n",
    "# Display\n",
    "plt.show()"
   ]
  },
  {
   "cell_type": "markdown",
   "id": "3db2f9b2-88db-4b6d-8383-1763b65bdf98",
   "metadata": {},
   "source": [
    "We can now determine the parameters by averaging the sample over the values that do not belong to the burn in :"
   ]
  },
  {
   "cell_type": "code",
   "execution_count": 166,
   "id": "e44bfa0f-865f-4894-9c7c-b36559b24192",
   "metadata": {},
   "outputs": [
    {
     "name": "stdout",
     "output_type": "stream",
     "text": [
      "ran Metropolis algorithm for 2000 iterations, with burn-in 600\n",
      "acceptance rate = 0.46882325363338023\n",
      "mean of x1 is about 0.30669146385586826\n",
      "mean of x2 is about 0.19021831583242155\n",
      "mean of x3 is about 0.48908485111256544\n"
     ]
    }
   ],
   "source": [
    "print(\"ran Metropolis algorithm for\", M, \"iterations, with burn-in\", B)\n",
    "print(\"acceptance rate =\", numaccept/i)\n",
    "u = np.mean(x1list[B:len(x1list)])\n",
    "print(\"mean of x1 is about\", u)\n",
    "v = np.mean(x2list[B:len(x2list)])\n",
    "print(\"mean of x2 is about\", v)\n",
    "w = np.mean(x3list[B:len(x3list)])\n",
    "print(\"mean of x3 is about\", w)"
   ]
  },
  {
   "cell_type": "markdown",
   "id": "9b877e7f-06a3-4778-a826-84db23161d90",
   "metadata": {},
   "source": [
    "We store the 3 samples to compare with Q1 in the following box plot : "
   ]
  },
  {
   "cell_type": "code",
   "execution_count": 167,
   "id": "bf783d77-8c1c-48a2-88b5-368cf1f8af35",
   "metadata": {},
   "outputs": [],
   "source": [
    "zvmcmc_results_P1 = pd.DataFrame({'omega': x1list, 'alpha': x2list, 'beta': x3list})\n",
    "zvmcmc_results_P1.to_csv('zvmcmc_results_P1.csv', index=False)"
   ]
  },
  {
   "cell_type": "markdown",
   "id": "1403596d-af1c-4b2d-9125-5f08f6904ec9",
   "metadata": {},
   "source": [
    "### Comparaison avec Q1"
   ]
  },
  {
   "cell_type": "code",
   "execution_count": 169,
   "id": "6ed5a76c-530a-4fac-97eb-27c43c881f5f",
   "metadata": {},
   "outputs": [],
   "source": [
    "mcmc_results = pd.read_csv(\"mcmc_results.csv\")"
   ]
  },
  {
   "cell_type": "markdown",
   "id": "1092f4a8-e15b-4b09-b7da-2d966b1b94d5",
   "metadata": {},
   "source": [
    "We can see a quasi identic mean (it wouldd be better with more iteration) but less variance with the zero variance method:"
   ]
  },
  {
   "cell_type": "code",
   "execution_count": 170,
   "id": "2ea571d0-082c-4be6-bdea-889dae5fd95e",
   "metadata": {},
   "outputs": [
    {
     "data": {
      "image/png": "[encoded data removed]",
      "text/plain": [
       "<Figure size 864x288 with 3 Axes>"
      ]
     },
     "metadata": {
      "needs_background": "light"
     },
     "output_type": "display_data"
    }
   ],
   "source": [
    "fig, axes = plt.subplots(1, 3, figsize=(12, 4))\n",
    "\n",
    "# Omega box-plot\n",
    "axes[0].boxplot([mcmc_results['omega'][B:], zvmcmc_results_P1['omega'][B:]])\n",
    "axes[0].set_xticklabels(['Simple MCMC', 'ZV MCMC P1'])\n",
    "axes[0].set_ylabel('Valeurs')\n",
    "axes[0].set_title('Omega Boxplot')\n",
    "\n",
    "# Alpha box-plot\n",
    "axes[1].boxplot([mcmc_results['alpha'][B:], zvmcmc_results_P1['alpha'][B:]])\n",
    "axes[1].set_xticklabels(['Simple MCMC', 'ZV MCMC P1'])\n",
    "axes[1].set_ylabel('Valeurs')\n",
    "axes[1].set_title('Alpha Boxplot')\n",
    "\n",
    "# Beta box-plot\n",
    "axes[2].boxplot([mcmc_results['beta'][B:], zvmcmc_results_P1['beta'][B:]])\n",
    "axes[2].set_xticklabels(['Simple MCMC', 'ZV MCMC P1'])\n",
    "axes[2].set_title('Beta Boxplot')\n",
    "\n",
    "# space between subplots\n",
    "fig.tight_layout()\n",
    "\n",
    "# Display\n",
    "plt.show()"
   ]
  }
 ],
 "metadata": {
  "kernelspec": {
   "display_name": "Python 3 (ipykernel)",
   "language": "python",
   "name": "python3"
  },
  "language_info": {
   "codemirror_mode": {
    "name": "ipython",
    "version": 3
   },
   "file_extension": ".py",
   "mimetype": "text/x-python",
   "name": "python",
   "nbconvert_exporter": "python",
   "pygments_lexer": "ipython3",
   "version": "3.9.12"
  }
 },
 "nbformat": 4,
 "nbformat_minor": 5
}
